{
 "cells": [
  {
   "cell_type": "code",
   "execution_count": 2,
   "id": "f4068aeb-22e2-4808-9762-4e8d40f6c1dd",
   "metadata": {},
   "outputs": [
    {
     "name": "stdout",
     "output_type": "stream",
     "text": [
      "Answer: To reset your password, go to the login page from company vpn, authenticate via OTP and finally click 'Forgot Password'.\n",
      "\n",
      "Source Document(s):\n",
      "- Our refund policy allows returns within 30 days of purchase.\n",
      "To reset your password, go to the login page from company vpn, authenticate via OTP and finally and click 'Forgot Password'.\n",
      "- We offer customer support from 9am to 6pm on weekdays.\n",
      "All orders over $50 qualify for free shipping.\n"
     ]
    }
   ],
   "source": [
    "from langchain.document_loaders import TextLoader\n",
    "from langchain.text_splitter import RecursiveCharacterTextSplitter\n",
    "from langchain.vectorstores import FAISS\n",
    "from langchain.embeddings import HuggingFaceEmbeddings\n",
    "from langchain.chains import RetrievalQA\n",
    "# from langchain.llms.fake import FakeListLLM\n",
    "from langchain.llms import Ollama\n",
    "\n",
    "# Step 1: Load your .txt file\n",
    "documents = TextLoader(\"faq.txt\").load()\n",
    "\n",
    "# Step 2: Split into chunks\n",
    "splitter = RecursiveCharacterTextSplitter(chunk_size=200, chunk_overlap=20)\n",
    "chunks = splitter.split_documents(documents)\n",
    "\n",
    "# Step 3: Embed chunks using a local sentence transformer model\n",
    "embedding = HuggingFaceEmbeddings(model_name=\"all-MiniLM-L6-v2\")\n",
    "\n",
    "# Step 4: Store in FAISS vector DB\n",
    "vectorstore = FAISS.from_documents(chunks, embedding)\n",
    "\n",
    "# Step 5: Set up retriever\n",
    "retriever = vectorstore.as_retriever()\n",
    "\n",
    "# Step 6: Use Fake LLM to simulate answer generation\n",
    "# llm = FakeListLLM(responses=[\"You can reset your password by going to the login page and clicking 'Forgot Password'.\"])\n",
    "llm = Ollama(model=\"gemma3:4b\")\n",
    "\n",
    "# Step 7: Wrap everything in RetrievalQA chain\n",
    "qa_chain = RetrievalQA.from_chain_type(\n",
    "    llm=llm,\n",
    "    retriever=retriever,\n",
    "    return_source_documents=True\n",
    ")\n",
    "\n",
    "# Step 8: Ask a question\n",
    "query = \"How can I reset my password?\"\n",
    "result = qa_chain(query)\n",
    "\n",
    "print(\"Answer:\", result[\"result\"])\n",
    "print(\"\\nSource Document(s):\")\n",
    "for doc in result[\"source_documents\"]:\n",
    "    print(\"-\", doc.page_content)\n"
   ]
  }
 ],
 "metadata": {
  "kernelspec": {
   "display_name": "Python 3 (ipykernel)",
   "language": "python",
   "name": "python3"
  },
  "language_info": {
   "codemirror_mode": {
    "name": "ipython",
    "version": 3
   },
   "file_extension": ".py",
   "mimetype": "text/x-python",
   "name": "python",
   "nbconvert_exporter": "python",
   "pygments_lexer": "ipython3",
   "version": "3.13.5"
  }
 },
 "nbformat": 4,
 "nbformat_minor": 5
}
