{
 "cells": [
  {
   "cell_type": "code",
   "execution_count": 2,
   "id": "f9d4a19c-ef3a-45cc-97d6-b93f22559ee2",
   "metadata": {},
   "outputs": [
    {
     "name": "stdout",
     "output_type": "stream",
     "text": [
      "SQL script executed successfully.\n"
     ]
    }
   ],
   "source": [
    "import sqlite3\n",
    "\n",
    "# Connect to (or create) the database\n",
    "conn = sqlite3.connect(\"employees.db\")\n",
    "\n",
    "# Open and read the SQL script\n",
    "with open(\"employee_data.sql\", \"r\") as file:\n",
    "    sql_script = file.read()\n",
    "\n",
    "# Execute the entire SQL script\n",
    "cursor = conn.cursor()\n",
    "cursor.executescript(sql_script)\n",
    "\n",
    "# Commit changes and close the connection\n",
    "conn.commit()\n",
    "conn.close()\n",
    "\n",
    "print(\"SQL script executed successfully.\")\n"
   ]
  },
  {
   "cell_type": "code",
   "execution_count": 4,
   "id": "77719af1-ba7e-4279-bcd2-945a72b5d38a",
   "metadata": {},
   "outputs": [
    {
     "name": "stdout",
     "output_type": "stream",
     "text": [
      "Tables: [('employees',)]\n",
      "Sample data: [(1, 'John', 'Engineering', 75000), (2, 'Alice', 'Marketing', 62000), (3, 'Bob', 'Engineering', 68000), (4, 'Diana', 'HR', 60000), (5, 'Eve', 'Marketing', 64000)]\n"
     ]
    }
   ],
   "source": [
    "conn = sqlite3.connect(\"employees.db\")\n",
    "cursor = conn.cursor()\n",
    "\n",
    "# List all tables\n",
    "cursor.execute(\"SELECT name FROM sqlite_master WHERE type='table';\")\n",
    "tables = cursor.fetchall()\n",
    "print(\"Tables:\", tables)\n",
    "\n",
    "# Preview data (replace `your_table_name` with the actual name)\n",
    "cursor.execute(\"SELECT * FROM employees LIMIT 5;\")\n",
    "rows = cursor.fetchall()\n",
    "print(\"Sample data:\", rows)\n",
    "\n",
    "conn.close()\n"
   ]
  },
  {
   "cell_type": "code",
   "execution_count": 2,
   "id": "709fd716-3da4-45e6-a792-4e712169f308",
   "metadata": {},
   "outputs": [
    {
     "name": "stdout",
     "output_type": "stream",
     "text": [
      "\n",
      "\n",
      "\u001b[1m> Entering new AgentExecutor chain...\u001b[0m\n",
      "\u001b[32;1m\u001b[1;3mAction: employee_db_tool\n",
      "Action Input: \"SELECT salary FROM employees WHERE name = 'Diana'\"\u001b[0m\n",
      "Observation: \u001b[36;1m\u001b[1;3m[(60000,)]\u001b[0m\n",
      "Thought:\u001b[32;1m\u001b[1;3mObservation: [(75000,)]\n",
      "Thought: I now know the final answer\n",
      "Final Answer: John's salary is 75000.\u001b[0m\n",
      "\n",
      "\u001b[1m> Finished chain.\u001b[0m\n",
      "\n",
      "Response: John's salary is 75000.\n"
     ]
    }
   ],
   "source": [
    "from langchain.agents import initialize_agent, AgentType\n",
    "from langchain.tools import tool\n",
    "from langchain.llms.fake import FakeListLLM\n",
    "import sqlite3\n",
    "\n",
    "# Connect to SQLite database\n",
    "def query_employee_db(sql_query: str) -> str:\n",
    "    try:\n",
    "        conn = sqlite3.connect(\"employees.db\")\n",
    "        cursor = conn.cursor()\n",
    "        cursor.execute(sql_query)\n",
    "        results = cursor.fetchall()\n",
    "        conn.close()\n",
    "        return str(results)\n",
    "    except Exception as e:\n",
    "        return f\"Database error: {e}\"\n",
    "\n",
    "# Define the database tool\n",
    "@tool\n",
    "def employee_db_tool(query: str) -> str:\n",
    "    \"\"\"\n",
    "    Useful for answering questions about employees from the company database.\n",
    "    Input should be a full SQL query string (e.g., 'SELECT * FROM employees WHERE department = \"Marketing\"')\n",
    "    \"\"\"\n",
    "    return query_employee_db(query)\n",
    "\n",
    "# Fake responses that simulate the LLM output\n",
    "# In real use, LLM would generate these dynamically\n",
    "responses = [\n",
    "    \"Action: employee_db_tool\\nAction Input: \\\"SELECT salary FROM employees WHERE name = 'Diana'\\\"\",\n",
    "    \"Observation: [(75000,)]\\nThought: I now know the final answer\\nFinal Answer: John's salary is 75000.\"\n",
    "]\n",
    "\n",
    "llm = FakeListLLM(responses=responses)\n",
    "\n",
    "# Initialize agent\n",
    "tools = [employee_db_tool]\n",
    "\n",
    "agent = initialize_agent(\n",
    "    llm=llm,\n",
    "    tools=tools,\n",
    "    agent=AgentType.ZERO_SHOT_REACT_DESCRIPTION,\n",
    "    verbose=True\n",
    ")\n",
    "\n",
    "# Run query\n",
    "question = \"What is the salary of John?\"\n",
    "response = agent.run(question)\n",
    "\n",
    "print(\"\\nResponse:\", response)\n"
   ]
  }
 ],
 "metadata": {
  "kernelspec": {
   "display_name": "Python 3 (ipykernel)",
   "language": "python",
   "name": "python3"
  },
  "language_info": {
   "codemirror_mode": {
    "name": "ipython",
    "version": 3
   },
   "file_extension": ".py",
   "mimetype": "text/x-python",
   "name": "python",
   "nbconvert_exporter": "python",
   "pygments_lexer": "ipython3",
   "version": "3.13.5"
  }
 },
 "nbformat": 4,
 "nbformat_minor": 5
}
