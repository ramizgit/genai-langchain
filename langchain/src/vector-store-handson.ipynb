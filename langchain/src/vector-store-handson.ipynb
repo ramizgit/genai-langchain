{
 "cells": [
  {
   "cell_type": "code",
   "execution_count": 11,
   "id": "14a2307a-88ee-4b61-bc8f-6e5fe03014e2",
   "metadata": {},
   "outputs": [
    {
     "name": "stdout",
     "output_type": "stream",
     "text": [
      "shape (6, 384)\n",
      "shape (1, 384)\n",
      "Query: Tell me something about AI.\n",
      "\n",
      "Top matches:\n",
      "- did you ask about AI?\n",
      "- wow, happy u asking about AI\n",
      "- Machine learning is fascinating.\n"
     ]
    }
   ],
   "source": [
    "from sentence_transformers import SentenceTransformer\n",
    "import faiss\n",
    "import numpy as np\n",
    "\n",
    "\n",
    "\n",
    "# 1. Sample data\n",
    "texts = [\n",
    "    \"The cat sits on the mat.\",\n",
    "    \"A quick brown fox jumps over the lazy dog.\",\n",
    "    \"did you ask about AI?\",\n",
    "    \"wow, happy u asking about AI\",\n",
    "    \"Machine learning is fascinating.\",\n",
    "    \"I love deep learning and neural networks.\"\n",
    "]\n",
    "\n",
    "# 2. Load embedding model\n",
    "model = SentenceTransformer('all-MiniLM-L6-v2')  # Small and fast\n",
    "\n",
    "# 3. Embed the texts\n",
    "embeddings = model.encode(texts)\n",
    "#print(\"embeddings\", embeddings)\n",
    "print(\"shape\", embeddings.shape)\n",
    "\n",
    "# 4. Create FAISS index\n",
    "dimension = embeddings.shape[1]  # 384 for MiniLM\n",
    "index = faiss.IndexFlatL2(dimension)\n",
    "index.add(np.array(embeddings))\n",
    "\n",
    "# 5. Query\n",
    "query = \"Tell me something about AI.\"\n",
    "query_embedding = model.encode([query])\n",
    "#print(\"query_embedding\", query_embedding)\n",
    "print(\"shape\", query_embedding.shape)\n",
    "\n",
    "# 6. Search\n",
    "k = 3  # top-2 results\n",
    "distances, indices = index.search(np.array(query_embedding), k)\n",
    "\n",
    "# 7. Print results\n",
    "print(\"Query:\", query)\n",
    "print(\"\\nTop matches:\")\n",
    "for i in indices[0]:\n",
    "    print(f\"- {texts[i]}\")\n"
   ]
  }
 ],
 "metadata": {
  "kernelspec": {
   "display_name": "Python 3 (ipykernel)",
   "language": "python",
   "name": "python3"
  },
  "language_info": {
   "codemirror_mode": {
    "name": "ipython",
    "version": 3
   },
   "file_extension": ".py",
   "mimetype": "text/x-python",
   "name": "python",
   "nbconvert_exporter": "python",
   "pygments_lexer": "ipython3",
   "version": "3.13.5"
  }
 },
 "nbformat": 4,
 "nbformat_minor": 5
}
