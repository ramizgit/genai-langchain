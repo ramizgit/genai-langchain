{
 "cells": [
  {
   "cell_type": "code",
   "execution_count": 2,
   "id": "1e8622fb-fbff-479c-94ac-5f50ad2e7014",
   "metadata": {},
   "outputs": [
    {
     "name": "stdout",
     "output_type": "stream",
     "text": [
      "hi, welcome to langchain!\n"
     ]
    }
   ],
   "source": [
    "print('hi, welcome to langchain!')"
   ]
  },
  {
   "cell_type": "code",
   "execution_count": 3,
   "id": "e7e04b68-74ce-45f4-8122-d7d33bf7f6c5",
   "metadata": {},
   "outputs": [
    {
     "name": "stdout",
     "output_type": "stream",
     "text": [
      "Note: you may need to restart the kernel to use updated packages.\n"
     ]
    },
    {
     "name": "stderr",
     "output_type": "stream",
     "text": [
      "ERROR: pip's dependency resolver does not currently take into account all the packages that are installed. This behaviour is the source of the following dependency conflicts.\n",
      "aiobotocore 2.19.0 requires botocore<1.36.4,>=1.36.0, but you have botocore 1.40.25 which is incompatible.\n"
     ]
    }
   ],
   "source": [
    "pip install -qU \"langchain[aws]\""
   ]
  },
  {
   "cell_type": "code",
   "execution_count": 4,
   "id": "c786e6fc-420e-4f81-8b08-4932d38b6070",
   "metadata": {},
   "outputs": [],
   "source": [
    "from langchain_core.tools import tool\n",
    "\n",
    "@tool\n",
    "def multiply(a: int, b: int) -> int:\n",
    "    \"\"\"Multiply a and b.\"\"\"\n",
    "    return a * b"
   ]
  },
  {
   "cell_type": "code",
   "execution_count": 8,
   "id": "ad4dad1a-c06a-45c8-ac87-b41d456a411f",
   "metadata": {},
   "outputs": [
    {
     "name": "stdout",
     "output_type": "stream",
     "text": [
      "\n",
      "\n",
      "\u001b[1m> Entering new AgentExecutor chain...\u001b[0m\n",
      "\u001b[32;1m\u001b[1;3mAction: Adder\n",
      "Action Input: 2 9\u001b[0m\n",
      "Observation: \u001b[36;1m\u001b[1;3m11\u001b[0m\n",
      "Thought:\u001b[32;1m\u001b[1;3mFinal Answer: 5\u001b[0m\n",
      "\n",
      "\u001b[1m> Finished chain.\u001b[0m\n",
      "\n",
      "Final Result: 5\n"
     ]
    }
   ],
   "source": [
    "from langchain.agents import initialize_agent, Tool\n",
    "from langchain.agents.agent_types import AgentType\n",
    "from langchain_community.llms.fake import FakeListLLM\n",
    "\n",
    "# A simple tool function: calculator\n",
    "def add_numbers(input: str) -> str:\n",
    "    try:\n",
    "        numbers = list(map(int, input.strip().split()))\n",
    "        return str(sum(numbers))\n",
    "    except Exception as e:\n",
    "        return f\"Error: {str(e)}\"\n",
    "\n",
    "# Wrap the tool in LangChain Tool\n",
    "tools = [\n",
    "    Tool(\n",
    "        name=\"Adder\",\n",
    "        func=add_numbers,\n",
    "        description=\"Useful for adding numbers. Input should be space-separated numbers. E.g., '2 3'\"\n",
    "    )\n",
    "]\n",
    "\n",
    "# Create a fake LLM that simulates outputs\n",
    "fake_responses = [\n",
    "    \"Action: Adder\\nAction Input: 2 9\",\n",
    "    \"Final Answer: 5\"\n",
    "]\n",
    "llm = FakeListLLM(responses=fake_responses)\n",
    "\n",
    "# Create the agent with fake LLM and tool\n",
    "agent = initialize_agent(\n",
    "    tools,\n",
    "    llm,\n",
    "    agent=AgentType.ZERO_SHOT_REACT_DESCRIPTION,\n",
    "    verbose=True\n",
    ")\n",
    "\n",
    "# Run the agent with a prompt\n",
    "result = agent.run(\"What is the sum of 2 and 9?\")\n",
    "print(\"\\nFinal Result:\", result)\n"
   ]
  },
  {
   "cell_type": "code",
   "execution_count": 9,
   "id": "b171ce56-e054-4e16-b737-23a224d691b8",
   "metadata": {},
   "outputs": [
    {
     "name": "stdout",
     "output_type": "stream",
     "text": [
      "\n",
      "\n",
      "\u001b[1m> Entering new AgentExecutor chain...\u001b[0m\n",
      "\u001b[32;1m\u001b[1;3mAction: add_numbers\n",
      "Action Input: 2 3\u001b[0m\n",
      "Observation: \u001b[36;1m\u001b[1;3m5\u001b[0m\n",
      "Thought:\u001b[32;1m\u001b[1;3mFinal Answer: 5\u001b[0m\n",
      "\n",
      "\u001b[1m> Finished chain.\u001b[0m\n",
      "\n",
      "Final Result: 5\n"
     ]
    }
   ],
   "source": [
    "from langchain.agents import initialize_agent\n",
    "from langchain.agents.agent_types import AgentType\n",
    "from langchain_community.llms.fake import FakeListLLM\n",
    "from langchain.tools import tool\n",
    "\n",
    "# ✅ Step 1: Define your tool using the @tool decorator\n",
    "@tool\n",
    "def add_numbers(input: str) -> str:\n",
    "    \"\"\"\n",
    "    Adds space-separated integers. Example: '2 3' => '5'\n",
    "    \"\"\"\n",
    "    try:\n",
    "        numbers = list(map(int, input.strip().split()))\n",
    "        return str(sum(numbers))\n",
    "    except Exception as e:\n",
    "        return f\"Error: {str(e)}\"\n",
    "\n",
    "# ✅ Step 2: Create a fake LLM that simulates a real one\n",
    "fake_responses = [\n",
    "    \"Action: add_numbers\\nAction Input: 2 3\",  # The agent decides to use the tool\n",
    "    \"Final Answer: 5\"                          # After getting the tool's response\n",
    "]\n",
    "llm = FakeListLLM(responses=fake_responses)\n",
    "\n",
    "# ✅ Step 3: Initialize the agent with the tool\n",
    "agent = initialize_agent(\n",
    "    tools=[add_numbers],        # Pass the decorated function directly\n",
    "    llm=llm,\n",
    "    agent=AgentType.ZERO_SHOT_REACT_DESCRIPTION,\n",
    "    verbose=True\n",
    ")\n",
    "\n",
    "# ✅ Step 4: Run the agent\n",
    "result = agent.run(\"What is 2 plus 3?\")\n",
    "print(\"\\nFinal Result:\", result)\n"
   ]
  },
  {
   "cell_type": "code",
   "execution_count": 10,
   "id": "b7d75dd6-3642-4d74-a779-ac96d2509f5c",
   "metadata": {},
   "outputs": [
    {
     "ename": "SyntaxError",
     "evalue": "invalid character '’' (U+2019) (1663093016.py, line 8)",
     "output_type": "error",
     "traceback": [
      "  \u001b[36mCell\u001b[39m\u001b[36m \u001b[39m\u001b[32mIn[10]\u001b[39m\u001b[32m, line 8\u001b[39m\n\u001b[31m    \u001b[39m\u001b[31m- Interpret the LLM’s output\u001b[39m\n                       ^\n\u001b[31mSyntaxError\u001b[39m\u001b[31m:\u001b[39m invalid character '’' (U+2019)\n"
     ]
    }
   ],
   "source": [
    "# LangChain & Agentic AI Cheatsheet\n",
    "\n",
    "---\n",
    "\n",
    "## 1. What is an Agent?\n",
    "\n",
    "- An **Agent** is a system that uses an LLM **plus logic** to:\n",
    "  - Interpret the LLM’s output\n",
    "  - Decide what *actions* to take (e.g., call tools)\n",
    "  - Loop and reason until a final answer\n",
    "\n",
    "- LLM = The *brain* (generates text/predictions)  \n",
    "- Agent logic = The *controller* (decides next step, calls tools)\n",
    "\n",
    "---\n",
    "\n",
    "## 2. What are Tools?\n",
    "\n",
    "- Tools = External functions the agent can call, e.g.:\n",
    "  - Calculators\n",
    "  - Search engines\n",
    "  - APIs\n",
    "  - Document retrievers\n",
    "\n",
    "- Decorated with `@tool` in LangChain to define usage and description\n",
    "\n",
    "---\n",
    "\n",
    "## 3. Why use Agent instead of just LLM?\n",
    "\n",
    "| LLM only                    | Agent (LLM + tools + logic)                |\n",
    "|-----------------------------|--------------------------------------------|\n",
    "| Generates answers directly   | Dynamically chooses and calls tools        |\n",
    "| No multi-step decision logic | Supports multi-step reasoning & workflows  |\n",
    "| No external action           | Can call calculators, APIs, retrieval etc. |\n",
    "\n",
    "---\n",
    "\n",
    "## 4. AgentType in LangChain\n",
    "\n",
    "- `ZERO_SHOT_REACT_DESCRIPTION`:  \n",
    "  Zero-shot ReAct (Reason + Act) using tool descriptions; default and versatile.\n",
    "\n",
    "- Other notable types:  \n",
    "  - `OPENAI_FUNCTIONS`: Uses OpenAI function calling API  \n",
    "  - `STRUCTURED_CHAT_ZERO_SHOT_REACT`: Structured multi-turn chat  \n",
    "  - `CHAT_CONVERSATIONAL_REACT_DESCRIPTION`: Chat-oriented ReAct  \n",
    "  - `SELF_ASK_WITH_SEARCH`: Self-asking with search tool  \n",
    "  - `PLAN_AND_EXECUTE`: Plan all steps, then execute sequentially\n",
    "\n",
    "---\n",
    "\n",
    "## 5. What is Agentic AI?\n",
    "\n",
    "- AI systems that act **autonomously** to achieve goals by:\n",
    "  - Planning\n",
    "  - Taking actions (calling tools/APIs)\n",
    "  - Adapting dynamically\n",
    "\n",
    "- LangChain agents are a simple, practical example of agentic AI.\n",
    "\n",
    "---\n",
    "\n",
    "## 6. RAG vs Agent\n",
    "\n",
    "| Aspect                | RAG (Retrieval-Augmented Generation)          | Agent                                        |\n",
    "|-----------------------|-----------------------------------------------|----------------------------------------------|\n",
    "| Uses external data?   | Yes, via retrieval from vector DB              | Yes, plus other tools/APIs                    |\n",
    "| Multi-step reasoning? | No (single pass)                               | Yes (loops, multiple steps)                   |\n",
    "| Dynamic tool calls?   | No                                            | Yes                                           |\n",
    "| Best for             | Static document Q&A                            | Complex workflows & dynamic tool usage        |\n",
    "\n",
    "---\n",
    "\n",
    "## 7. Example Hybrid Setup: Agent + Retriever Tool\n",
    "\n",
    "```python\n",
    "from langchain.tools import tool\n",
    "\n",
    "@tool\n",
    "def document_search_tool(query: str) -> str:\n",
    "    results = retriever.get_relevant_documents(query)\n",
    "    return \"\\n\\n\".join([doc.page_content for doc in results])\n",
    "\n",
    "@tool\n",
    "def calculator_tool(expression: str) -> str:\n",
    "    try:\n",
    "        return str(eval(expression))\n",
    "    except Exception as e:\n",
    "        return f\"Error: {e}\"\n",
    "\n",
    "tools = [document_search_tool, calculator_tool]\n",
    "\n",
    "agent = initialize_agent(\n",
    "    tools=tools,\n",
    "    llm=llm,\n",
    "    agent=AgentType.ZERO_SHOT_REACT_DESCRIPTION,\n",
    "    verbose=True\n",
    ")\n",
    "\n",
    "response = agent.run(\"What is the refund policy? Also, calculate 12 * 15.\")\n",
    "print(response)\n"
   ]
  }
 ],
 "metadata": {
  "kernelspec": {
   "display_name": "Python 3 (ipykernel)",
   "language": "python",
   "name": "python3"
  },
  "language_info": {
   "codemirror_mode": {
    "name": "ipython",
    "version": 3
   },
   "file_extension": ".py",
   "mimetype": "text/x-python",
   "name": "python",
   "nbconvert_exporter": "python",
   "pygments_lexer": "ipython3",
   "version": "3.13.5"
  }
 },
 "nbformat": 4,
 "nbformat_minor": 5
}
