{
 "cells": [
  {
   "cell_type": "code",
   "execution_count": 20,
   "id": "4e7bf883-9d09-4d28-a642-53980d024899",
   "metadata": {},
   "outputs": [
    {
     "name": "stdout",
     "output_type": "stream",
     "text": [
      "Tokens: [57621, 5038]\n",
      "Number of tokens: 2\n",
      "Decoded tokens: ['happy', 'iam']\n"
     ]
    }
   ],
   "source": [
    "import tiktoken\n",
    "\n",
    "# Choose tokenizer for a specific model (e.g., GPT-3.5)\n",
    "encoding = tiktoken.encoding_for_model(\"gpt-3.5-turbo\")\n",
    "\n",
    "text = \"happyiam\" #\"I’m learning AI and it's awesome!\"\n",
    "\n",
    "tokens = encoding.encode(text)\n",
    "print(\"Tokens:\", tokens)\n",
    "print(\"Number of tokens:\", len(tokens))\n",
    "\n",
    "# To see tokens as strings:\n",
    "decoded_tokens = [encoding.decode_single_token_bytes(t).decode('utf-8', errors='ignore') for t in tokens]\n",
    "print(\"Decoded tokens:\", decoded_tokens)\n"
   ]
  },
  {
   "cell_type": "code",
   "execution_count": 7,
   "id": "9bad525e-d064-4228-aeb0-ea7bef0f69db",
   "metadata": {},
   "outputs": [
    {
     "name": "stdout",
     "output_type": "stream",
     "text": [
      "\n",
      "Embedding vector shape: (384,)\n",
      "Embedding vector sample (first 10 values): [-0.08087447 -0.03810387  0.03973779 -0.02468346 -0.0394531  -0.05272863\n",
      "  0.1011207   0.04338208  0.00626399  0.00916908]\n"
     ]
    }
   ],
   "source": [
    "from sentence_transformers import SentenceTransformer\n",
    "# --- Vector embeddings using sentence-transformers ---\n",
    "model = SentenceTransformer('all-MiniLM-L6-v2')\n",
    "embedding = model.encode(text)\n",
    "print(\"\\nEmbedding vector shape:\", embedding.shape)\n",
    "print(\"Embedding vector sample (first 10 values):\", embedding[:10])"
   ]
  }
 ],
 "metadata": {
  "kernelspec": {
   "display_name": "Python 3 (ipykernel)",
   "language": "python",
   "name": "python3"
  },
  "language_info": {
   "codemirror_mode": {
    "name": "ipython",
    "version": 3
   },
   "file_extension": ".py",
   "mimetype": "text/x-python",
   "name": "python",
   "nbconvert_exporter": "python",
   "pygments_lexer": "ipython3",
   "version": "3.13.5"
  }
 },
 "nbformat": 4,
 "nbformat_minor": 5
}
