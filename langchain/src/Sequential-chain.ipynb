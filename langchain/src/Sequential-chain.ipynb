{
 "cells": [
  {
   "cell_type": "code",
   "execution_count": 8,
   "id": "aeefd406-66e9-4f43-a7d1-68526072dece",
   "metadata": {},
   "outputs": [
    {
     "name": "stdout",
     "output_type": "stream",
     "text": [
      "\n",
      "\n",
      "\u001b[1m> Entering new SimpleSequentialChain chain...\u001b[0m\n",
      "\u001b[36;1m\u001b[1;3mAI in Healthcare: Revolutionizing Patient Care\u001b[0m\n",
      "\u001b[33;1m\u001b[1;3mI. Introduction\n",
      "II. Applications of AI\n",
      "III. Challenges\n",
      "IV. Future Outlook\n",
      "V. Conclusion\u001b[0m\n",
      "\n",
      "\u001b[1m> Finished chain.\u001b[0m\n",
      "\n",
      "📝 Final Output:\n",
      " I. Introduction\n",
      "II. Applications of AI\n",
      "III. Challenges\n",
      "IV. Future Outlook\n",
      "V. Conclusion\n"
     ]
    }
   ],
   "source": [
    "from langchain.llms.fake import FakeListLLM\n",
    "from langchain.prompts import PromptTemplate\n",
    "from langchain.chains import LLMChain, SimpleSequentialChain\n",
    "\n",
    "# Fake LLM that returns different responses for each call\n",
    "fake_llm = FakeListLLM(responses=[\n",
    "    \"AI in Healthcare: Revolutionizing Patient Care\",  # Response for blog title\n",
    "    \"I. Introduction\\nII. Applications of AI\\nIII. Challenges\\nIV. Future Outlook\\nV. Conclusion\"  # Outline\n",
    "])\n",
    "\n",
    "# Step 1: Generate title\n",
    "title_prompt = PromptTemplate(\n",
    "    input_variables=[\"topic\"],\n",
    "    template=\"Write a catchy blog post title about {topic}.\"\n",
    ")\n",
    "title_chain = LLMChain(llm=fake_llm, prompt=title_prompt)\n",
    "\n",
    "# Step 2: Generate outline based on the title\n",
    "outline_prompt = PromptTemplate(\n",
    "    input_variables=[\"title\"],\n",
    "    template=\"Write a detailed outline for a blog post titled '{title}'.\"\n",
    ")\n",
    "outline_chain = LLMChain(llm=fake_llm, prompt=outline_prompt)\n",
    "\n",
    "# Chain them together\n",
    "chain = SimpleSequentialChain(chains=[title_chain, outline_chain], verbose=True)\n",
    "\n",
    "# Run the chain\n",
    "output = chain.run(\"AI in Healthcare\")\n",
    "print(\"\\n📝 Final Output:\\n\", output)\n"
   ]
  }
 ],
 "metadata": {
  "kernelspec": {
   "display_name": "Python 3 (ipykernel)",
   "language": "python",
   "name": "python3"
  },
  "language_info": {
   "codemirror_mode": {
    "name": "ipython",
    "version": 3
   },
   "file_extension": ".py",
   "mimetype": "text/x-python",
   "name": "python",
   "nbconvert_exporter": "python",
   "pygments_lexer": "ipython3",
   "version": "3.13.5"
  }
 },
 "nbformat": 4,
 "nbformat_minor": 5
}
