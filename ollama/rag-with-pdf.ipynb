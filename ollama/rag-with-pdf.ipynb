{
 "cells": [
  {
   "cell_type": "code",
   "execution_count": 9,
   "id": "f17abcfa-8000-483e-92dc-400b0f1874ca",
   "metadata": {},
   "outputs": [
    {
     "name": "stdout",
     "output_type": "stream",
     "text": [
      "{'query': 'which compnay has done this job posting and what exactly are they looking for in a suitable candidate?', 'result': 'Based on the provided text, the company that has done this job posting is D. E. Shaw India. They are looking for a highly experienced software developer to join their “Strike” team. The ideal candidate should have a master’s or bachelor’s degree in Computer Science or a related field.'}\n"
     ]
    }
   ],
   "source": [
    "from langchain.llms import Ollama\n",
    "from langchain.document_loaders import PyPDFLoader\n",
    "from langchain.chains import LLMChain\n",
    "from langchain.prompts import PromptTemplate\n",
    "from langchain.text_splitter import RecursiveCharacterTextSplitter\n",
    "from langchain.vectorstores import FAISS\n",
    "from langchain.embeddings import HuggingFaceEmbeddings\n",
    "from langchain.chains import RetrievalQA\n",
    "\n",
    "# Step 1: Load the PDF\n",
    "loader = PyPDFLoader(\"job.pdf\")  # Replace with your PDF's filename\n",
    "documents = loader.load()\n",
    "\n",
    "# Step 2: Split into chunks\n",
    "splitter = RecursiveCharacterTextSplitter(chunk_size=200, chunk_overlap=20)\n",
    "chunks = splitter.split_documents(documents)\n",
    "\n",
    "# Step 3: Embed chunks using a local sentence transformer model\n",
    "embedding = HuggingFaceEmbeddings(model_name=\"all-MiniLM-L6-v2\")\n",
    "\n",
    "# Step 4: Store in FAISS vector DB\n",
    "vectorstore = FAISS.from_documents(chunks, embedding)\n",
    "\n",
    "# Step 5: Set up retriever\n",
    "retriever = vectorstore.as_retriever()\n",
    "\n",
    "# Step 6: Load the Ollama model\n",
    "llm = Ollama(model=\"gemma3:4b\")\n",
    "\n",
    "# Step 7: Wrap everything in RetrievalQA chain\n",
    "qa_chain = RetrievalQA.from_chain_type(\n",
    "    llm=llm,\n",
    "    retriever=retriever,\n",
    "    return_source_documents=False\n",
    ")\n",
    "\n",
    "# Step 8: Ask a question\n",
    "# query = \"what are preferred qualifications for this job posting?\"\n",
    "# query = \"how many years of experience is required for this job posting?\"\n",
    "query = \"which compnay has done this job posting and what exactly are they looking for in a suitable candidate?\"\n",
    "response = qa_chain(query)\n",
    "print(response)\n"
   ]
  }
 ],
 "metadata": {
  "kernelspec": {
   "display_name": "Python 3 (ipykernel)",
   "language": "python",
   "name": "python3"
  },
  "language_info": {
   "codemirror_mode": {
    "name": "ipython",
    "version": 3
   },
   "file_extension": ".py",
   "mimetype": "text/x-python",
   "name": "python",
   "nbconvert_exporter": "python",
   "pygments_lexer": "ipython3",
   "version": "3.13.5"
  }
 },
 "nbformat": 4,
 "nbformat_minor": 5
}
