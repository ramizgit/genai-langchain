{
 "cells": [
  {
   "cell_type": "code",
   "execution_count": 1,
   "id": "354d1d4f-fe94-46a8-b614-c3d78f4cc0a9",
   "metadata": {},
   "outputs": [
    {
     "name": "stdout",
     "output_type": "stream",
     "text": [
      "SQL script executed successfully.\n"
     ]
    }
   ],
   "source": [
    "import sqlite3\n",
    "\n",
    "# Connect to (or create) the database\n",
    "conn = sqlite3.connect(\"employees.db\")\n",
    "\n",
    "# Open and read the SQL script\n",
    "with open(\"employee_data.sql\", \"r\") as file:\n",
    "    sql_script = file.read()\n",
    "\n",
    "# Execute the entire SQL script\n",
    "cursor = conn.cursor()\n",
    "cursor.executescript(sql_script)\n",
    "\n",
    "# Commit changes and close the connection\n",
    "conn.commit()\n",
    "conn.close()\n",
    "\n",
    "print(\"SQL script executed successfully.\")"
   ]
  },
  {
   "cell_type": "code",
   "execution_count": 15,
   "id": "ab9fb38a-0a26-423b-b830-e00bba37688b",
   "metadata": {},
   "outputs": [
    {
     "name": "stdout",
     "output_type": "stream",
     "text": [
      "Tables: [('employees',)]\n",
      "Sample data: [(62000,)]\n"
     ]
    }
   ],
   "source": [
    "conn = sqlite3.connect(\"employees.db\")\n",
    "cursor = conn.cursor()\n",
    "\n",
    "# List all tables\n",
    "cursor.execute(\"SELECT name FROM sqlite_master WHERE type='table';\")\n",
    "tables = cursor.fetchall()\n",
    "print(\"Tables:\", tables)\n",
    "\n",
    "# Preview data (replace `your_table_name` with the actual name)\n",
    "cursor.execute(\"SELECT salary FROM employees WHERE name = 'Alice';\")\n",
    "rows = cursor.fetchall()\n",
    "print(\"Sample data:\", rows)\n",
    "\n",
    "conn.close()"
   ]
  },
  {
   "cell_type": "code",
   "execution_count": 19,
   "id": "1a1a542c-6003-4bbb-b28d-6abef7b49c9b",
   "metadata": {},
   "outputs": [
    {
     "name": "stdout",
     "output_type": "stream",
     "text": [
      "\n",
      "\n",
      "\u001b[1m> Entering new AgentExecutor chain...\u001b[0m\n",
      "\u001b[32;1m\u001b[1;3mI need to find out Alice's department. I can use the employee_db_tool to query the database for Alice's information.\n",
      "Action: employee_db_tool\n",
      "Action Input: \"SELECT department FROM employees WHERE name = 'Alice'\"\u001b[0m\n",
      "Observation: \u001b[36;1m\u001b[1;3m[('Marketing',)]\u001b[0m\n",
      "Thought:\u001b[32;1m\u001b[1;3mAlice works in the Marketing department.\n",
      "Final Answer: Marketing\u001b[0m\n",
      "\n",
      "\u001b[1m> Finished chain.\u001b[0m\n",
      "\n",
      "Response: {'input': 'can you please tell me which section Alice works in?', 'output': 'Marketing'}\n"
     ]
    }
   ],
   "source": [
    "from langchain.llms import Ollama\n",
    "from langchain.agents import initialize_agent, AgentType\n",
    "from langchain.tools import tool\n",
    "import sqlite3\n",
    "\n",
    "# Connect to SQLite database\n",
    "def query_employee_db(sql_query: str) -> str:\n",
    "    try:\n",
    "        conn = sqlite3.connect(\"employees.db\")\n",
    "        cursor = conn.cursor()\n",
    "        cursor.execute(sql_query)\n",
    "        results = cursor.fetchall()\n",
    "        conn.close()\n",
    "        return str(results)\n",
    "    except Exception as e:\n",
    "        return f\"Database error: {e}\"\n",
    "\n",
    "# Define the database tool\n",
    "@tool\n",
    "def employee_db_tool(query: str) -> str:\n",
    "    \"\"\"\n",
    "    Useful for answering questions about employees from the company database.\n",
    "    The database has a table called 'employees' with following columns:\n",
    "    - id INTEGER PRIMARY KEY,\n",
    "    - name TEXT,\n",
    "    - department TEXT,\n",
    "    - salary INTEGER\n",
    "    Input should be a full SQL query string (e.g., \"SELECT salary FROM employees WHERE department = 'Marketing'\";)\n",
    "    \"\"\"\n",
    "    return query_employee_db(query)\n",
    "\n",
    "llm = Ollama(model=\"gemma3:4b\")\n",
    "\n",
    "# Initialize agent\n",
    "tools = [employee_db_tool]\n",
    "\n",
    "agent = initialize_agent(\n",
    "    llm=llm,\n",
    "    tools=tools,\n",
    "    agent=AgentType.ZERO_SHOT_REACT_DESCRIPTION,\n",
    "    verbose=True\n",
    ")\n",
    "\n",
    "# Run query\n",
    "# question = \"how much is the earning of Alice?\"\n",
    "question = \"can you please tell me which section Alice works in?\"\n",
    "# response = agent.run(question)\n",
    "response = agent.invoke({\"input\": question})\n",
    "\n",
    "print(\"\\nResponse:\", response)"
   ]
  }
 ],
 "metadata": {
  "kernelspec": {
   "display_name": "Python 3 (ipykernel)",
   "language": "python",
   "name": "python3"
  },
  "language_info": {
   "codemirror_mode": {
    "name": "ipython",
    "version": 3
   },
   "file_extension": ".py",
   "mimetype": "text/x-python",
   "name": "python",
   "nbconvert_exporter": "python",
   "pygments_lexer": "ipython3",
   "version": "3.13.5"
  }
 },
 "nbformat": 4,
 "nbformat_minor": 5
}
