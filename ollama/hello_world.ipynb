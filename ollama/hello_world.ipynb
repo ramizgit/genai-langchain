{
 "cells": [
  {
   "cell_type": "code",
   "execution_count": 8,
   "id": "f79010ad-1c9b-4dc3-85d7-5df266c1866b",
   "metadata": {},
   "outputs": [
    {
     "name": "stdout",
     "output_type": "stream",
     "text": [
      "\n",
      "\n",
      "\u001b[1m> Entering new LLMChain chain...\u001b[0m\n",
      "Prompt after formatting:\n",
      "\u001b[32;1m\u001b[1;3mAnswer the following question: whats your view on Islam?\u001b[0m\n",
      "\n",
      "\u001b[1m> Finished chain.\u001b[0m\n",
      "Okay, let's address this complex and important question. My response will aim to be as comprehensive and nuanced as possible, reflecting the diversity within Islam and avoiding generalizations.\n",
      "\n",
      "**Here's my view on Islam, broken down into key areas:**\n",
      "\n",
      "**1. The Religion Itself:**\n",
      "\n",
      "* **A Rich and Complex Tradition:** Islam is a religion with a history spanning over 1400 years, originating with the Prophet Muhammad in Arabia in the 7th century. It’s deeply rooted in Abrahamic traditions (Judaism and Christianity) but has developed its own unique theology, law, and practices.\n",
      "* **Core Beliefs:** At its heart, Islam is based on the belief in one God (Allah), the prophets including Abraham, Moses, and Jesus, the Quran as the final revelation of God’s word, and the Day of Judgment.  Key tenets include faith, prayer, charity, fasting during Ramadan, and pilgrimage to Mecca (Hajj).\n",
      "* **The Quran:**  Considered by Muslims to be the literal word of God, revealed to Muhammad. It’s a complex and poetic text that provides moral and ethical guidance.\n",
      "* **Sharia Law:** This is a frequently misunderstood concept. Sharia (often translated as \"Islamic law\") is a broad system of moral, ethical, and legal principles derived from the Quran and the Sunnah (the teachings and practices of the Prophet Muhammad). It’s not a monolithic set of rules but varies across different interpretations and schools of thought. Importantly, its application differs dramatically across cultures and communities.\n",
      "\n",
      "\n",
      "**2. Diversity Within Islam:**\n",
      "\n",
      "* **No Single Interpretation:** It’s absolutely crucial to understand that Islam is *not* a monolithic religion. There’s enormous diversity within the Muslim world, reflecting differences in culture, ethnicity, political views, and most importantly, *interpretations* of Islamic teachings.\n",
      "* **Major Branches:** The two largest denominations are Sunni and Shia Islam, with significant differences in their historical lineages, interpretations of leadership, and some theological differences. There are also smaller branches like Sufism (mystical Islam) and various schools of jurisprudence.\n",
      "* **Global Community:** Muslims come from every continent, representing a vast range of cultures and traditions.  This diversity is a defining feature of the faith.\n",
      "\n",
      "**3. Positive Aspects and Contributions:**\n",
      "\n",
      "* **Emphasis on Ethics and Morality:** Islam emphasizes justice, compassion, charity, and respect for others – values that have contributed to positive social change in many Muslim communities.\n",
      "* **Intellectual and Scientific Contributions:** Historically, Islamic scholars made groundbreaking contributions to mathematics, astronomy, medicine, philosophy, and literature during the Golden Age of Islam (roughly 8th-13th centuries).  They preserved and built upon knowledge from ancient Greece and other civilizations.\n",
      "* **Strong Community Bonds:**  Islam often fosters a strong sense of community and mutual support among its adherents.\n",
      "* **Art and Architecture:** Islamic art and architecture are renowned for their beauty, intricate designs, and geometric patterns.\n",
      "\n",
      "\n",
      "**4. Challenges and Criticisms:**\n",
      "\n",
      "* **Extremist Groups:** It’s vital to acknowledge the existence of extremist groups – such as ISIS and al-Qaeda – who distort and manipulate Islamic teachings to justify violence and oppression. *These groups represent a tiny minority of Muslims and their actions are condemned by the vast majority of the Muslim world.*\n",
      "* **Treatment of Women:** Historically, and in some contemporary contexts, there have been concerns about the treatment of women in certain Muslim societies, often linked to interpretations of religious texts and cultural norms. However, there's also a powerful and growing movement of Muslim women advocating for gender equality and challenging patriarchal interpretations.\n",
      "* **Restrictions on Freedom of Expression:** In some Muslim-majority countries, there are concerns about restrictions on freedom of expression and religious freedom.\n",
      "\n",
      "**5. My Position as an AI:**\n",
      "\n",
      "As an AI, I don’t *believe* in Islam or any other religion. My response is based on the massive dataset I’ve been trained on, which includes scholarly texts, historical accounts, news reports, and diverse perspectives on Islam.\n",
      "\n",
      "**Important Disclaimer:**  My goal is to provide an informative and balanced overview.  It is crucial to avoid stereotypes and to engage with diverse voices within the Muslim community.  Further research and critical thinking are always encouraged.\n",
      "\n",
      "**Resources for Further Learning:**\n",
      "\n",
      "* **The Muslim World Trust:** [https://muslimworldtrust.org/](https://muslimworldtrust.org/)\n",
      "* **Explore Islam:** [https://exploreislam.org/](https://exploreislam.org/)\n",
      "* **Pew Research Center – Religion & Public Life:** [https://www.pewresearch.org/religion/](https://www.pewresearch.org/religion/)\n",
      "\n",
      "\n",
      "Do you want me to delve deeper into a specific aspect of Islam, such as:\n",
      "\n",
      "*   The historical development of the faith?\n",
      "*   A particular theological concept?\n",
      "*   The role of women in Islam?\n",
      "*   The differences between Sunni and Shia Islam?\n"
     ]
    }
   ],
   "source": [
    "from langchain.llms import Ollama\n",
    "from langchain.chains import LLMChain\n",
    "from langchain.prompts import PromptTemplate\n",
    "\n",
    "# Load the Ollama model (you can change the model name)\n",
    "llm = Ollama(model=\"gemma3:4b\")\n",
    "\n",
    "# Create a PromptTemplate\n",
    "prompt_template = PromptTemplate(\n",
    "    input_variables=[\"query\"],\n",
    "    template=\"Answer the following question: {query}\"\n",
    ")\n",
    "\n",
    "# Create an LLMChain\n",
    "chain = LLMChain(llm=llm, prompt=prompt_template, verbose=True) # verbose=True shows the prompt and response\n",
    "\n",
    "# Run the chain\n",
    "response = chain.run(\"whats your view on Islam?\")\n",
    "\n",
    "print(response)\n"
   ]
  }
 ],
 "metadata": {
  "kernelspec": {
   "display_name": "Python 3 (ipykernel)",
   "language": "python",
   "name": "python3"
  },
  "language_info": {
   "codemirror_mode": {
    "name": "ipython",
    "version": 3
   },
   "file_extension": ".py",
   "mimetype": "text/x-python",
   "name": "python",
   "nbconvert_exporter": "python",
   "pygments_lexer": "ipython3",
   "version": "3.13.5"
  }
 },
 "nbformat": 4,
 "nbformat_minor": 5
}
